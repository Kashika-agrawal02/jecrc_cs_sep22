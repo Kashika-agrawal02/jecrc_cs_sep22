{
 "cells": [
  {
   "cell_type": "code",
   "execution_count": 1,
   "id": "c16ea126-1089-4c41-a514-4fa7d0cc7454",
   "metadata": {},
   "outputs": [
    {
     "data": {
      "text/plain": [
       "7"
      ]
     },
     "execution_count": 1,
     "metadata": {},
     "output_type": "execute_result"
    }
   ],
   "source": [
    "3+4"
   ]
  },
  {
   "cell_type": "code",
   "execution_count": 2,
   "id": "afa385df-e5e8-4e01-befa-073b1200b47b",
   "metadata": {},
   "outputs": [
    {
     "name": "stdout",
     "output_type": "stream",
     "text": [
      "welcome to machine learning\n"
     ]
    }
   ],
   "source": [
    "print('welcome to machine learning')"
   ]
  },
  {
   "cell_type": "markdown",
   "id": "f32ab4be-d7ed-4303-9163-a24a4b523888",
   "metadata": {},
   "source": [
    "\n",
    "# 1st heading"
   ]
  },
  {
   "cell_type": "markdown",
   "id": "278f9c4f-42eb-4206-a85f-c9e96ba14030",
   "metadata": {
    "tags": []
   },
   "source": [
    "## 2nd heading"
   ]
  },
  {
   "cell_type": "markdown",
   "id": "1faa79f9-07d1-4a38-bddb-5452cf6199d9",
   "metadata": {
    "jp-MarkdownHeadingCollapsed": true,
    "tags": []
   },
   "source": [
    " "
   ]
  },
  {
   "cell_type": "markdown",
   "id": "b7c0d873-6213-4026-85f4-3507103c1d9e",
   "metadata": {},
   "source": [
    "##### sub heading"
   ]
  },
  {
   "cell_type": "markdown",
   "id": "44af3f14-9784-48e0-8647-2f1d21b2c99e",
   "metadata": {},
   "source": [
    "* this is first point\n",
    "* this is fourth point"
   ]
  },
  {
   "cell_type": "markdown",
   "id": "7cb221b4-237d-48f5-8883-733da1fba5e9",
   "metadata": {},
   "source": [
    "1. this is third point\n",
    "2. this is fourth point"
   ]
  },
  {
   "cell_type": "code",
   "execution_count": 5,
   "id": "1119287a-211a-4780-8f83-bc017ade0a0e",
   "metadata": {},
   "outputs": [],
   "source": [
    "import os\n"
   ]
  },
  {
   "cell_type": "code",
   "execution_count": 6,
   "id": "2bf9aa3b-2890-4f6f-80c5-28645e8d7129",
   "metadata": {},
   "outputs": [
    {
     "data": {
      "text/plain": [
       "'C:\\\\Users\\\\91759\\\\Desktop\\\\ML Trainig\\\\anafromday_7'"
      ]
     },
     "execution_count": 6,
     "metadata": {},
     "output_type": "execute_result"
    }
   ],
   "source": [
    "os.getcwd()"
   ]
  },
  {
   "cell_type": "code",
   "execution_count": 8,
   "id": "afc7317f-0b79-4fc6-b331-b1d902ad848e",
   "metadata": {},
   "outputs": [
    {
     "ename": "FileNotFoundError",
     "evalue": "[WinError 2] The system cannot find the file specified: 'C:\\\\Users\\\\91759\\\\Desktop\\\\ML Trainig\\\\day5'",
     "output_type": "error",
     "traceback": [
      "\u001b[1;31m---------------------------------------------------------------------------\u001b[0m",
      "\u001b[1;31mFileNotFoundError\u001b[0m                         Traceback (most recent call last)",
      "Input \u001b[1;32mIn [8]\u001b[0m, in \u001b[0;36m<cell line: 1>\u001b[1;34m()\u001b[0m\n\u001b[1;32m----> 1\u001b[0m \u001b[43mos\u001b[49m\u001b[38;5;241;43m.\u001b[39;49m\u001b[43mchdir\u001b[49m\u001b[43m(\u001b[49m\u001b[38;5;124;43m'\u001b[39;49m\u001b[38;5;124;43mC:\u001b[39;49m\u001b[38;5;130;43;01m\\\\\u001b[39;49;00m\u001b[38;5;124;43mUsers\u001b[39;49m\u001b[38;5;130;43;01m\\\\\u001b[39;49;00m\u001b[38;5;124;43m91759\u001b[39;49m\u001b[38;5;130;43;01m\\\\\u001b[39;49;00m\u001b[38;5;124;43mDesktop\u001b[39;49m\u001b[38;5;130;43;01m\\\\\u001b[39;49;00m\u001b[38;5;124;43mML Trainig\u001b[39;49m\u001b[38;5;130;43;01m\\\\\u001b[39;49;00m\u001b[38;5;124;43mday5\u001b[39;49m\u001b[38;5;124;43m'\u001b[39;49m\u001b[43m)\u001b[49m\n",
      "\u001b[1;31mFileNotFoundError\u001b[0m: [WinError 2] The system cannot find the file specified: 'C:\\\\Users\\\\91759\\\\Desktop\\\\ML Trainig\\\\day5'"
     ]
    }
   ],
   "source": [
    "os.chdir('C:\\\\Users\\\\91759\\\\Desktop\\\\ML Trainig\\\\day5')\n"
   ]
  },
  {
   "cell_type": "code",
   "execution_count": null,
   "id": "fb2e3674-e590-45c1-b797-67f2afe36853",
   "metadata": {},
   "outputs": [],
   "source": [
    "os.getcwd()"
   ]
  },
  {
   "cell_type": "code",
   "execution_count": null,
   "id": "c1878d4d-69b8-48e7-b4c4-6ba37314c0aa",
   "metadata": {},
   "outputs": [],
   "source": []
  }
 ],
 "metadata": {
  "kernelspec": {
   "display_name": "Python 3 (ipykernel)",
   "language": "python",
   "name": "python3"
  },
  "language_info": {
   "codemirror_mode": {
    "name": "ipython",
    "version": 3
   },
   "file_extension": ".py",
   "mimetype": "text/x-python",
   "name": "python",
   "nbconvert_exporter": "python",
   "pygments_lexer": "ipython3",
   "version": "3.9.12"
  },
  "toc-autonumbering": true,
  "toc-showcode": true,
  "toc-showmarkdowntxt": true,
  "toc-showtags": false
 },
 "nbformat": 4,
 "nbformat_minor": 5
}
