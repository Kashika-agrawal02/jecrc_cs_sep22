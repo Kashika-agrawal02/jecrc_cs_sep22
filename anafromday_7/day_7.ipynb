{
 "cells": [
  {
   "cell_type": "code",
   "execution_count": 1,
   "id": "c16ea126-1089-4c41-a514-4fa7d0cc7454",
   "metadata": {},
   "outputs": [
    {
     "data": {
      "text/plain": [
       "7"
      ]
     },
     "execution_count": 1,
     "metadata": {},
     "output_type": "execute_result"
    }
   ],
   "source": [
    "3+4"
   ]
  },
  {
   "cell_type": "code",
   "execution_count": 2,
   "id": "afa385df-e5e8-4e01-befa-073b1200b47b",
   "metadata": {},
   "outputs": [
    {
     "name": "stdout",
     "output_type": "stream",
     "text": [
      "welcome to machine learning\n"
     ]
    }
   ],
   "source": [
    "print('welcome to machine learning')"
   ]
  },
  {
   "cell_type": "markdown",
   "id": "f32ab4be-d7ed-4303-9163-a24a4b523888",
   "metadata": {},
   "source": [
    "\n",
    "# 1st heading"
   ]
  },
  {
   "cell_type": "markdown",
   "id": "278f9c4f-42eb-4206-a85f-c9e96ba14030",
   "metadata": {
    "tags": []
   },
   "source": [
    "## 2nd heading"
   ]
  },
  {
   "cell_type": "markdown",
   "id": "1faa79f9-07d1-4a38-bddb-5452cf6199d9",
   "metadata": {
    "jp-MarkdownHeadingCollapsed": true,
    "tags": []
   },
   "source": [
    " "
   ]
  },
  {
   "cell_type": "markdown",
   "id": "b7c0d873-6213-4026-85f4-3507103c1d9e",
   "metadata": {},
   "source": [
    "##### sub heading"
   ]
  },
  {
   "cell_type": "markdown",
   "id": "44af3f14-9784-48e0-8647-2f1d21b2c99e",
   "metadata": {},
   "source": [
    "* this is first point\n",
    "* this is fourth point"
   ]
  },
  {
   "cell_type": "markdown",
   "id": "7cb221b4-237d-48f5-8883-733da1fba5e9",
   "metadata": {},
   "source": [
    "1. this is third point\n",
    "2. this is fourth point"
   ]
  },
  {
   "cell_type": "code",
   "execution_count": 5,
   "id": "1119287a-211a-4780-8f83-bc017ade0a0e",
   "metadata": {},
   "outputs": [],
   "source": [
    "import os\n"
   ]
  },
  {
   "cell_type": "code",
   "execution_count": 6,
   "id": "2bf9aa3b-2890-4f6f-80c5-28645e8d7129",
   "metadata": {},
   "outputs": [
    {
     "data": {
      "text/plain": [
       "'C:\\\\Users\\\\91759\\\\Desktop\\\\ML Trainig\\\\anafromday_7'"
      ]
     },
     "execution_count": 6,
     "metadata": {},
     "output_type": "execute_result"
    }
   ],
   "source": [
    "os.getcwd()"
   ]
  },
  {
   "cell_type": "code",
   "execution_count": 19,
   "id": "afc7317f-0b79-4fc6-b331-b1d902ad848e",
   "metadata": {
    "tags": []
   },
   "outputs": [],
   "source": [
    "os.chdir('C:\\\\Users\\\\91759\\\\Desktop\\\\ML Trainig\\\\day 1')\n"
   ]
  },
  {
   "cell_type": "code",
   "execution_count": 20,
   "id": "fb2e3674-e590-45c1-b797-67f2afe36853",
   "metadata": {
    "tags": []
   },
   "outputs": [
    {
     "data": {
      "text/plain": [
       "'C:\\\\Users\\\\91759\\\\Desktop\\\\ML Trainig\\\\day 1'"
      ]
     },
     "execution_count": 20,
     "metadata": {},
     "output_type": "execute_result"
    }
   ],
   "source": [
    "os.getcwd()"
   ]
  },
  {
   "cell_type": "code",
   "execution_count": 23,
   "id": "c1878d4d-69b8-48e7-b4c4-6ba37314c0aa",
   "metadata": {},
   "outputs": [
    {
     "data": {
      "text/plain": [
       "['.ipynb_checkpoints',\n",
       " 'anafromday_7',\n",
       " 'Day 1',\n",
       " 'day 3 (h).py',\n",
       " 'day 3.py',\n",
       " 'day 4 (h).py',\n",
       " 'day 4.py',\n",
       " 'day 5editor.py',\n",
       " 'day 6 fun.py',\n",
       " 'day4editor.py',\n",
       " 'day5editor.py']"
      ]
     },
     "execution_count": 23,
     "metadata": {},
     "output_type": "execute_result"
    }
   ],
   "source": [
    "os.listdir('C:\\\\Users\\\\91759\\\\Desktop\\\\ML Trainig')"
   ]
  },
  {
   "cell_type": "code",
   "execution_count": 44,
   "id": "3270c0bd-b4c5-4c43-8ed4-ef524f68dc25",
   "metadata": {},
   "outputs": [],
   "source": [
    "#to make a folder\n",
    "os.mkdir('Empty_folder')"
   ]
  },
  {
   "cell_type": "code",
   "execution_count": 45,
   "id": "4c174227-f55c-4fc1-90f3-167c700fe792",
   "metadata": {},
   "outputs": [],
   "source": [
    "#to remove a folder\n",
    "os.rmdir('Empty_folder')"
   ]
  },
  {
   "cell_type": "markdown",
   "id": "c8b82667-41b4-4872-80f4-0a5315eb6cb3",
   "metadata": {},
   "source": [
    "# Random"
   ]
  },
  {
   "cell_type": "code",
   "execution_count": 36,
   "id": "eb0bb46b-ee28-43b0-a38f-ee43cb79e262",
   "metadata": {},
   "outputs": [],
   "source": [
    "import random"
   ]
  },
  {
   "cell_type": "code",
   "execution_count": 37,
   "id": "cefad4f1-11b3-41c0-b29d-d4caaafca7ea",
   "metadata": {},
   "outputs": [
    {
     "name": "stdout",
     "output_type": "stream",
     "text": [
      "0.36211028482007246\n"
     ]
    }
   ],
   "source": [
    "val = random.random()\n",
    "print(val)"
   ]
  },
  {
   "cell_type": "code",
   "execution_count": 41,
   "id": "faa6c2fa-d7e9-4547-b24c-b23debd3052c",
   "metadata": {},
   "outputs": [],
   "source": [
    "val2=random.randint(1,10)\n"
   ]
  },
  {
   "cell_type": "code",
   "execution_count": 42,
   "id": "75ee4c63-f38e-47ee-b6d8-c9bf8256039c",
   "metadata": {},
   "outputs": [
    {
     "name": "stdout",
     "output_type": "stream",
     "text": [
      "5\n"
     ]
    }
   ],
   "source": [
    "print(val2)"
   ]
  },
  {
   "cell_type": "code",
   "execution_count": 53,
   "id": "6df9b001-7a50-48e1-aa3a-3afa88ac51ae",
   "metadata": {},
   "outputs": [
    {
     "name": "stdout",
     "output_type": "stream",
     "text": [
      "34\n"
     ]
    }
   ],
   "source": [
    "m=['hi','hello','hy',444]\n",
    "val= random.choice(m)\n",
    "print(val)"
   ]
  },
  {
   "cell_type": "code",
   "execution_count": 54,
   "id": "3107edca-723c-4ad0-88c7-bece712f9a38",
   "metadata": {},
   "outputs": [
    {
     "name": "stdout",
     "output_type": "stream",
     "text": [
      "[444, 'hy', 'hello']\n"
     ]
    }
   ],
   "source": [
    "m=['hi','hello','hy',444]\n",
    "val= random.choices(m,k=3)\n",
    "print(val)"
   ]
  },
  {
   "cell_type": "code",
   "execution_count": 55,
   "id": "9c5b510e-ad0d-4910-9d6f-542dc9756dee",
   "metadata": {},
   "outputs": [
    {
     "name": "stdout",
     "output_type": "stream",
     "text": [
      "['hello', 444, 'hy', 'hi']\n"
     ]
    }
   ],
   "source": [
    "#shuffle\n",
    "random.shuffle(m)\n",
    "print(m)"
   ]
  },
  {
   "cell_type": "code",
   "execution_count": 56,
   "id": "b5893ed9-8b94-409e-84bb-d8e1a69134a0",
   "metadata": {},
   "outputs": [],
   "source": [
    "#module-os,random,calender"
   ]
  },
  {
   "cell_type": "code",
   "execution_count": null,
   "id": "ff79e01b-c924-495a-bd63-8c6a8b87865c",
   "metadata": {},
   "outputs": [],
   "source": []
  }
 ],
 "metadata": {
  "kernelspec": {
   "display_name": "Python 3 (ipykernel)",
   "language": "python",
   "name": "python3"
  },
  "language_info": {
   "codemirror_mode": {
    "name": "ipython",
    "version": 3
   },
   "file_extension": ".py",
   "mimetype": "text/x-python",
   "name": "python",
   "nbconvert_exporter": "python",
   "pygments_lexer": "ipython3",
   "version": "3.9.12"
  },
  "toc-autonumbering": true,
  "toc-showcode": true,
  "toc-showmarkdowntxt": true,
  "toc-showtags": false
 },
 "nbformat": 4,
 "nbformat_minor": 5
}
